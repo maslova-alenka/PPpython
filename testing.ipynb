{
 "cells": [
  {
   "cell_type": "code",
   "execution_count": 10,
   "metadata": {},
   "outputs": [],
   "source": [
    "import torch\n",
    "import torch.nn as nn\n",
    "import torch\n",
    "import torch.optim as optim\n",
    "import torch.nn.functional as F\n",
    "\n",
    "from torchvision import datasets, models, transforms\n",
    "from torch.utils.data import DataLoader, Dataset\n",
    "\n",
    "from sklearn.model_selection import train_test_split\n",
    "\n",
    "import numpy as np\n",
    "import pandas as pd\n",
    "import matplotlib.pyplot as plt\n",
    "import os\n",
    "import cv2\n",
    "import glob"
   ]
  },
  {
   "cell_type": "code",
   "execution_count": 2,
   "metadata": {},
   "outputs": [],
   "source": [
    "lr = 0.001\n",
    "batch_size = 10\n",
    "epochs = 10"
   ]
  },
  {
   "cell_type": "code",
   "execution_count": 3,
   "metadata": {},
   "outputs": [
    {
     "name": "stdout",
     "output_type": "stream",
     "text": [
      "cpu\n"
     ]
    }
   ],
   "source": [
    "device = 'cuda' if torch.cuda.is_available() else 'cpu'\n",
    "\n",
    "torch.manual_seed(1234)\n",
    "if device =='cuda':\n",
    "    torch.cuda.manual_seed_all(1234)\n",
    "\n",
    "print(device)"
   ]
  },
  {
   "cell_type": "markdown",
   "metadata": {},
   "source": [
    "Task 1-2"
   ]
  },
  {
   "cell_type": "code",
   "execution_count": 12,
   "metadata": {},
   "outputs": [
    {
     "name": "stdout",
     "output_type": "stream",
     "text": [
      "      index                            absolute_way class_img\n",
      "0         0  C:\\Repository\\lab\\dataset\\cat\\0000.jpg       cat\n",
      "1         1  C:\\Repository\\lab\\dataset\\cat\\0001.jpg       cat\n",
      "2         2  C:\\Repository\\lab\\dataset\\cat\\0002.jpg       cat\n",
      "3         3  C:\\Repository\\lab\\dataset\\cat\\0003.jpg       cat\n",
      "4         4  C:\\Repository\\lab\\dataset\\cat\\0004.jpg       cat\n",
      "...     ...                                     ...       ...\n",
      "1995   1995  C:\\Repository\\lab\\dataset\\dog\\0995.jpg       dog\n",
      "1996   1996  C:\\Repository\\lab\\dataset\\dog\\0996.jpg       dog\n",
      "1997   1997  C:\\Repository\\lab\\dataset\\dog\\0997.jpg       dog\n",
      "1998   1998  C:\\Repository\\lab\\dataset\\dog\\0998.jpg       dog\n",
      "1999   1999  C:\\Repository\\lab\\dataset\\dog\\0999.jpg       dog\n",
      "\n",
      "[2000 rows x 3 columns]\n"
     ]
    }
   ],
   "source": [
    "train_path='C:/Repository/lab/train'\n",
    "test_path='C:/Repository/lab/test'\n",
    "val_path='C:/Repository/lab/val'\n",
    "\n",
    "\n",
    "df = pd.read_csv('paths.csv', sep = ',', header=None)\n",
    "\n",
    "\n",
    "df.drop(1, axis=1, inplace=True)\n",
    "df.rename(columns={0: 'absolute_way', 2: 'class_img'}, inplace=True)\n",
    "df.reset_index(inplace=True)\n",
    "print(df)\n",
    "\n",
    "\n",
    "if not os.path.isdir(train_path):\n",
    "    os.mkdir(train_path)\n",
    "\n",
    "if not os.path.isdir(test_path):\n",
    "    os.mkdir(test_path)\n",
    "\n",
    "if not os.path.isdir(val_path):\n",
    "    os.mkdir(val_path)\n",
    "\n",
    "def load_train(df: pd.core.frame.DataFrame, path: str, i: int) -> None:    \n",
    "    '''\n",
    "    Загружает i-ую картинку из датафрейма по заданному пути path\n",
    "    Parameters\n",
    "        df(pd.core.frame.DataFrame): \n",
    "         датафрейм с картинками \n",
    "        path(str): \n",
    "         путь загрузки картинок\n",
    "        i(int): \n",
    "         номер картинки \n",
    "    '''\n",
    "    image_path = df.absolute_way[i]\n",
    "    image = cv2.imread(image_path)\n",
    "    cv2.imwrite(os.path.join(path, f'{df.class_img[i]}.{i}.jpg'), image)\n",
    "\n",
    "def load_val(df: pd.core.frame.DataFrame, path: str, i: int) -> None:\n",
    "    '''\n",
    "    Загружает i-ую картинку из датафрейма по заданному пути path\n",
    "    Parameters\n",
    "        df(pd.core.frame.DataFrame): \n",
    "         датафрейм с картинками \n",
    "        path(str): \n",
    "         путь загрузки картинок\n",
    "        i(int): \n",
    "         номер картинки \n",
    "    '''\n",
    "    image_path = df.absolute_way[i]\n",
    "    image = cv2.imread(image_path)\n",
    "    cv2.imwrite(os.path.join(path, f'{i}.jpg'), image)\n",
    "\n",
    "def load_test(df: pd.core.frame.DataFrame, path: str, i: int) -> None:\n",
    "    '''\n",
    "    Загружает i-ую картинку из датафрейма по заданному пути path\n",
    "    Parameters\n",
    "        df(pd.core.frame.DataFrame): \n",
    "         датафрейм с картинками \n",
    "        path(str): \n",
    "         путь загрузки картинок\n",
    "        i(int): \n",
    "         номер картинки \n",
    "    '''\n",
    "    image_path = df.absolute_way[i]\n",
    "    image = cv2.imread(image_path)\n",
    "    cv2.imwrite(os.path.join(path, f'{i}.jpg'), image)\n",
    "\n",
    "\n",
    "for i in range(800):\n",
    "    load_train(df, train_path, i)\n",
    "for i in range(1000,1800):\n",
    "    load_train(df, train_path, i)\n",
    "for i in range(800,900):\n",
    "    load_test(df,test_path,i)\n",
    "for i in range(1800,1900):\n",
    "    load_test(df,test_path,i)\n",
    "for i in range(900,1000):\n",
    "    load_val(df,val_path,i)\n",
    "for i in range(1900,1999):\n",
    "    load_val(df,val_path,i)\n",
    "\n",
    "train_list = glob.glob(os.path.join(train_path,'*.jpg'))\n",
    "test_list = glob.glob(os.path.join(test_path, '*.jpg'))\n",
    "\n",
    "train_list, val_list = train_test_split(train_list, test_size=0.1)"
   ]
  },
  {
   "cell_type": "code",
   "execution_count": null,
   "metadata": {},
   "outputs": [],
   "source": []
  },
  {
   "cell_type": "code",
   "execution_count": null,
   "metadata": {},
   "outputs": [],
   "source": []
  }
 ],
 "metadata": {
  "kernelspec": {
   "display_name": ".venv",
   "language": "python",
   "name": "python3"
  },
  "language_info": {
   "codemirror_mode": {
    "name": "ipython",
    "version": 3
   },
   "file_extension": ".py",
   "mimetype": "text/x-python",
   "name": "python",
   "nbconvert_exporter": "python",
   "pygments_lexer": "ipython3",
   "version": "3.11.5"
  }
 },
 "nbformat": 4,
 "nbformat_minor": 2
}
